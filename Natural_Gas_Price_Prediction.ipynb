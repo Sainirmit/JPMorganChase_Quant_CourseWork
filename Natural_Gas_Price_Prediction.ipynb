{
  "nbformat": 4,
  "nbformat_minor": 0,
  "metadata": {
    "colab": {
      "provenance": [],
      "toc_visible": true,
      "gpuType": "T4"
    },
    "kernelspec": {
      "name": "python3",
      "display_name": "Python 3"
    },
    "language_info": {
      "name": "python"
    }
  },
  "cells": [
    {
      "cell_type": "code",
      "source": [
        "# Cell 0: Initialization\n",
        "import pandas as pd\n",
        "pd.options.mode.chained_assignment = None  # Disable false-positive SettingWithCopyWarning"
      ],
      "metadata": {
        "id": "c_zLFAjjInL4"
      },
      "execution_count": 46,
      "outputs": []
    },
    {
      "cell_type": "code",
      "execution_count": 36,
      "metadata": {
        "colab": {
          "base_uri": "https://localhost:8080/"
        },
        "id": "NZMHTQin5MQ7",
        "outputId": "97e3adaa-03ac-439e-d1b8-6ebb5332b29b"
      },
      "outputs": [
        {
          "output_type": "stream",
          "name": "stdout",
          "text": [
            "Requirement already satisfied: pandas in /usr/local/lib/python3.11/dist-packages (2.2.2)\n",
            "Requirement already satisfied: numpy in /usr/local/lib/python3.11/dist-packages (2.0.2)\n",
            "Requirement already satisfied: matplotlib in /usr/local/lib/python3.11/dist-packages (3.10.0)\n",
            "Requirement already satisfied: statsmodels in /usr/local/lib/python3.11/dist-packages (0.14.4)\n",
            "Requirement already satisfied: python-dateutil>=2.8.2 in /usr/local/lib/python3.11/dist-packages (from pandas) (2.8.2)\n",
            "Requirement already satisfied: pytz>=2020.1 in /usr/local/lib/python3.11/dist-packages (from pandas) (2025.1)\n",
            "Requirement already satisfied: tzdata>=2022.7 in /usr/local/lib/python3.11/dist-packages (from pandas) (2025.1)\n",
            "Requirement already satisfied: contourpy>=1.0.1 in /usr/local/lib/python3.11/dist-packages (from matplotlib) (1.3.1)\n",
            "Requirement already satisfied: cycler>=0.10 in /usr/local/lib/python3.11/dist-packages (from matplotlib) (0.12.1)\n",
            "Requirement already satisfied: fonttools>=4.22.0 in /usr/local/lib/python3.11/dist-packages (from matplotlib) (4.56.0)\n",
            "Requirement already satisfied: kiwisolver>=1.3.1 in /usr/local/lib/python3.11/dist-packages (from matplotlib) (1.4.8)\n",
            "Requirement already satisfied: packaging>=20.0 in /usr/local/lib/python3.11/dist-packages (from matplotlib) (24.2)\n",
            "Requirement already satisfied: pillow>=8 in /usr/local/lib/python3.11/dist-packages (from matplotlib) (11.1.0)\n",
            "Requirement already satisfied: pyparsing>=2.3.1 in /usr/local/lib/python3.11/dist-packages (from matplotlib) (3.2.1)\n",
            "Requirement already satisfied: scipy!=1.9.2,>=1.8 in /usr/local/lib/python3.11/dist-packages (from statsmodels) (1.14.1)\n",
            "Requirement already satisfied: patsy>=0.5.6 in /usr/local/lib/python3.11/dist-packages (from statsmodels) (1.0.1)\n",
            "Requirement already satisfied: six>=1.5 in /usr/local/lib/python3.11/dist-packages (from python-dateutil>=2.8.2->pandas) (1.17.0)\n"
          ]
        }
      ],
      "source": [
        "!pip install pandas numpy matplotlib statsmodels"
      ]
    },
    {
      "cell_type": "code",
      "source": [
        "import pandas as pd\n",
        "import numpy as np\n",
        "import matplotlib.pyplot as plt\n",
        "from statsmodels.formula.api import ols\n",
        "from statsmodels.tsa.seasonal import seasonal_decompose"
      ],
      "metadata": {
        "id": "dE6GEgo15Y9J"
      },
      "execution_count": 37,
      "outputs": []
    },
    {
      "cell_type": "code",
      "source": [
        "data = pd.read_csv('Nat_Gas.csv')\n",
        "data['Dates'] = pd.to_datetime(data['Dates'], format='%m/%d/%y')\n",
        "data['Prices'] = data['Prices'].astype(float)\n",
        "\n",
        "# Display first 5 rows and data types\n",
        "print(\"Data sample:\")\n",
        "print(data.head())\n",
        "print(\"\\nData types:\")\n",
        "print(data.dtypes)"
      ],
      "metadata": {
        "colab": {
          "base_uri": "https://localhost:8080/"
        },
        "id": "QFmiZOtz5cpl",
        "outputId": "5c04e736-986d-4c0c-ec5f-e569b382234e"
      },
      "execution_count": 38,
      "outputs": [
        {
          "output_type": "stream",
          "name": "stdout",
          "text": [
            "Data sample:\n",
            "       Dates  Prices\n",
            "0 2020-10-31    10.1\n",
            "1 2020-11-30    10.3\n",
            "2 2020-12-31    11.0\n",
            "3 2021-01-31    10.9\n",
            "4 2021-02-28    10.9\n",
            "\n",
            "Data types:\n",
            "Dates     datetime64[ns]\n",
            "Prices           float64\n",
            "dtype: object\n"
          ]
        }
      ]
    },
    {
      "cell_type": "code",
      "source": [
        "# Feature engineering - create time index and month features\n",
        "start_date = data['Dates'].iloc[0]  # Get first date in dataset\n",
        "data['time'] = (data['Dates'].dt.year - start_date.year) * 12 + (data['Dates'].dt.month - start_date.month)\n",
        "data['month'] = data['Dates'].dt.month\n",
        "\n",
        "# Verify the new features\n",
        "print(\"\\nData with engineered features:\")\n",
        "print(data[['Dates', 'time', 'month', 'Prices']].head())"
      ],
      "metadata": {
        "colab": {
          "base_uri": "https://localhost:8080/"
        },
        "id": "0t_eqtLV6Zuc",
        "outputId": "b0bf2edd-b9fe-4c18-f66b-6ac25d74192f"
      },
      "execution_count": 39,
      "outputs": [
        {
          "output_type": "stream",
          "name": "stdout",
          "text": [
            "\n",
            "Data with engineered features:\n",
            "       Dates  time  month  Prices\n",
            "0 2020-10-31     0     10    10.1\n",
            "1 2020-11-30     1     11    10.3\n",
            "2 2020-12-31     2     12    11.0\n",
            "3 2021-01-31     3      1    10.9\n",
            "4 2021-02-28     4      2    10.9\n"
          ]
        }
      ]
    },
    {
      "cell_type": "code",
      "source": [
        "# Train linear regression model with trend and seasonality\n",
        "model = ols('Prices ~ time + C(month)', data=data).fit()\n",
        "\n",
        "# # Show model summary\n",
        "# print(\"\\nModel summary:\")\n",
        "# print(model.summary())\n",
        "\n",
        "# # Check R-squared value\n",
        "# print(f\"\\nModel R-squared: {model.rsquared:.3f}\")\n",
        "\n",
        "# Focus on significant months (April-November) + trend\n",
        "significant_months = [4,5,6,7,8,9,10,11]  # Months with p<0.05 in original model\n",
        "data['significant_month'] = data['month'].where(data['month'].isin(significant_months), 1)  # 1=baseline\n",
        "\n",
        "# Retrain simplified model\n",
        "improved_model = ols('Prices ~ time + C(significant_month)', data=data).fit()\n",
        "\n",
        "# Compare models\n",
        "print(\"Original Model R-squared:\", round(model.rsquared, 3))\n",
        "print(\"Improved Model R-squared:\", round(improved_model.rsquared, 3))\n",
        "print(\"\\nImproved Model Summary:\")\n",
        "print(improved_model.summary())"
      ],
      "metadata": {
        "colab": {
          "base_uri": "https://localhost:8080/"
        },
        "id": "GJ4DowJB6cxd",
        "outputId": "39a57119-44f7-42f2-b0d0-3d01eeab84f6"
      },
      "execution_count": 40,
      "outputs": [
        {
          "output_type": "stream",
          "name": "stdout",
          "text": [
            "Original Model R-squared: 0.955\n",
            "Improved Model R-squared: 0.954\n",
            "\n",
            "Improved Model Summary:\n",
            "                            OLS Regression Results                            \n",
            "==============================================================================\n",
            "Dep. Variable:                 Prices   R-squared:                       0.954\n",
            "Model:                            OLS   Adj. R-squared:                  0.943\n",
            "Method:                 Least Squares   F-statistic:                     87.08\n",
            "Date:                Mon, 31 Mar 2025   Prob (F-statistic):           1.40e-22\n",
            "Time:                        07:35:42   Log-Likelihood:                 19.474\n",
            "No. Observations:                  48   AIC:                            -18.95\n",
            "Df Residuals:                      38   BIC:                           -0.2353\n",
            "Df Model:                           9                                         \n",
            "Covariance Type:            nonrobust                                         \n",
            "==============================================================================================\n",
            "                                 coef    std err          t      P>|t|      [0.025      0.975]\n",
            "----------------------------------------------------------------------------------------------\n",
            "Intercept                     10.7688      0.062    174.530      0.000      10.644      10.894\n",
            "C(significant_month)[T.4]     -0.6751      0.101     -6.655      0.000      -0.880      -0.470\n",
            "C(significant_month)[T.5]     -1.1102      0.102    -10.932      0.000      -1.316      -0.905\n",
            "C(significant_month)[T.6]     -1.2402      0.102    -12.195      0.000      -1.446      -1.034\n",
            "C(significant_month)[T.7]     -1.0853      0.102    -10.652      0.000      -1.292      -0.879\n",
            "C(significant_month)[T.8]     -1.2054      0.102    -11.804      0.000      -1.412      -0.999\n",
            "C(significant_month)[T.9]     -1.0004      0.102     -9.772      0.000      -1.208      -0.793\n",
            "C(significant_month)[T.10]    -0.8298      0.102     -8.171      0.000      -1.035      -0.624\n",
            "C(significant_month)[T.11]    -0.2999      0.101     -2.956      0.005      -0.505      -0.095\n",
            "time                           0.0451      0.002     23.132      0.000       0.041       0.049\n",
            "==============================================================================\n",
            "Omnibus:                        0.310   Durbin-Watson:                   2.167\n",
            "Prob(Omnibus):                  0.856   Jarque-Bera (JB):                0.327\n",
            "Skew:                          -0.175   Prob(JB):                        0.849\n",
            "Kurtosis:                       2.798   Cond. No.                         169.\n",
            "==============================================================================\n",
            "\n",
            "Notes:\n",
            "[1] Standard Errors assume that the covariance matrix of the errors is correctly specified.\n"
          ]
        }
      ]
    },
    {
      "cell_type": "code",
      "source": [
        "# Generate future dates (Oct 2024 - Sep 2025)\n",
        "future_dates = pd.date_range(start='2024-10-31', periods=12, freq='ME')\n",
        "future_data = pd.DataFrame({'Dates': future_dates})\n",
        "\n",
        "# Add features (time + significant_month)\n",
        "future_data['time'] = future_data['Dates'].apply(\n",
        "    lambda x: (x.year - start_date.year) * 12 + (x.month - start_date.month))\n",
        "future_data['month'] = future_data['Dates'].dt.month\n",
        "future_data['significant_month'] = future_data['month'].where(\n",
        "    future_data['month'].isin(significant_months), 1)\n",
        "\n",
        "#Predict using original model\n",
        "future_data['Prices'] = model.predict(future_data)\n",
        "\n",
        "# Predict using IMPROVED model\n",
        "future_data['Prices'] = improved_model.predict(future_data)\n",
        "\n",
        "# Display future predictions\n",
        "print(\"\\nFuture Price Predictions (Original Model):\")\n",
        "print(future_data[['Dates', 'Prices']].round(2))\n",
        "print(\"\\nFuture Price Predictions (Improved Model):\")\n",
        "print(future_data[['Dates', 'Prices']].round(2))"
      ],
      "metadata": {
        "colab": {
          "base_uri": "https://localhost:8080/"
        },
        "id": "i5K6lJwW7CpJ",
        "outputId": "1d710eb9-a8a6-4bf5-a711-50f4c1e937d4"
      },
      "execution_count": 41,
      "outputs": [
        {
          "output_type": "stream",
          "name": "stdout",
          "text": [
            "\n",
            "Future Price Predictions (Original Model):\n",
            "        Dates  Prices\n",
            "0  2024-10-31   12.10\n",
            "1  2024-11-30   12.68\n",
            "2  2024-12-31   13.02\n",
            "3  2025-01-31   13.07\n",
            "4  2025-02-28   13.11\n",
            "5  2025-03-31   13.16\n",
            "6  2025-04-30   12.53\n",
            "7  2025-05-31   12.14\n",
            "8  2025-06-30   12.05\n",
            "9  2025-07-31   12.25\n",
            "10 2025-08-31   12.18\n",
            "11 2025-09-30   12.43\n",
            "\n",
            "Future Price Predictions (Improved Model):\n",
            "        Dates  Prices\n",
            "0  2024-10-31   12.10\n",
            "1  2024-11-30   12.68\n",
            "2  2024-12-31   13.02\n",
            "3  2025-01-31   13.07\n",
            "4  2025-02-28   13.11\n",
            "5  2025-03-31   13.16\n",
            "6  2025-04-30   12.53\n",
            "7  2025-05-31   12.14\n",
            "8  2025-06-30   12.05\n",
            "9  2025-07-31   12.25\n",
            "10 2025-08-31   12.18\n",
            "11 2025-09-30   12.43\n"
          ]
        }
      ]
    },
    {
      "cell_type": "code",
      "source": [
        "# Combine historical and future data\n",
        "combined = pd.concat([data[['Dates', 'Prices']], future_data[['Dates', 'Prices']]], ignore_index=True)\n",
        "combined.set_index('Dates', inplace=True)\n",
        "\n",
        "# Daily timeline with linear interpolation\n",
        "daily_dates = pd.date_range(start=combined.index.min(), end=combined.index.max(), freq='D')\n",
        "daily_df = pd.DataFrame(index=daily_dates)\n",
        "daily_df = daily_df.join(combined, how='left')\n",
        "daily_df['Prices'] = daily_df['Prices'].interpolate(method='time')  # Time-aware interpolation\n",
        "\n",
        "# Price estimation function\n",
        "def estimate_price(date):\n",
        "    date = pd.to_datetime(date)\n",
        "    if date < daily_df.index.min() or date > daily_df.index.max():\n",
        "        return None\n",
        "    return round(daily_df.loc[date, 'Prices'], 2)  # Round to cents\n",
        "\n",
        "# Test\n",
        "print(\"\\nPrice Estimation Examples:\")\n",
        "print(f\"2023-12-15: ${estimate_price('2023-12-15')}\")\n",
        "print(f\"2025-02-14: ${estimate_price('2025-02-14')}\")\n",
        "print(f\"2030-01-01: {estimate_price('2030-01-01')} (out of range)\")"
      ],
      "metadata": {
        "colab": {
          "base_uri": "https://localhost:8080/"
        },
        "id": "8dsUCMpP_kJG",
        "outputId": "30b80778-c79c-46c6-814f-5263b52da45f"
      },
      "execution_count": 42,
      "outputs": [
        {
          "output_type": "stream",
          "name": "stdout",
          "text": [
            "\n",
            "Price Estimation Examples:\n",
            "2023-12-15: $12.49\n",
            "2025-02-14: $13.09\n",
            "2030-01-01: None (out of range)\n"
          ]
        }
      ]
    },
    {
      "cell_type": "code",
      "source": [
        "plt.figure(figsize=(14,6))\n",
        "plt.plot(daily_df.index, daily_df['Prices'], 'g-', alpha=0.5, label='Daily Interpolated Prices')\n",
        "plt.plot(combined.index, combined['Prices'], 'bo', markersize=5, label='Monthly Data Points')\n",
        "plt.title('Natural Gas Prices: Full Daily Timeline', fontsize=16)\n",
        "plt.xlabel('Date', fontsize=12)\n",
        "plt.ylabel('Price ($)', fontsize=12)\n",
        "plt.legend()\n",
        "plt.grid(alpha=0.3)\n",
        "plt.show()"
      ],
      "metadata": {
        "colab": {
          "base_uri": "https://localhost:8080/",
          "height": 368
        },
        "id": "dgMTXE1aB3Ou",
        "outputId": "1dc30562-ad17-40b2-cb5c-f9308ab8e39c"
      },
      "execution_count": 43,
      "outputs": [
        {
          "output_type": "display_data",
          "data": {
            "text/plain": [
              "<Figure size 1400x600 with 1 Axes>"
            ],
            "image/png": "[encoded data removed]"
          },
          "metadata": {}
        }
      ]
    },
    {
      "cell_type": "code",
      "source": [
        "# Export to CSV for external use\n",
        "# daily_df.reset_index(inplace=True)\n",
        "# daily_df.rename(columns={'index':'Date'}, inplace=True)\n",
        "# daily_df.to_csv('daily_gas_prices.csv', index=False)\n",
        "\n",
        "### Uncomment for saving to CSV\n",
        "\n",
        "print(\"Daily prices exported to daily_gas_prices.csv\")"
      ],
      "metadata": {
        "colab": {
          "base_uri": "https://localhost:8080/"
        },
        "id": "zDSYuXycCIid",
        "outputId": "73c1f0fe-9a4d-4f9d-a747-e89c5bb8ee1a"
      },
      "execution_count": 44,
      "outputs": [
        {
          "output_type": "stream",
          "name": "stdout",
          "text": [
            "Daily prices exported to daily_gas_prices.csv\n"
          ]
        }
      ]
    },
    {
      "cell_type": "code",
      "source": [
        "# First ensure daily_df index is datetime\n",
        "daily_df.index = pd.to_datetime(daily_df.index)\n",
        "\n",
        "def test_price_estimation():\n",
        "    # Test first date in dataset\n",
        "    first_price = estimate_price('2020-10-31')\n",
        "    assert abs(first_price - 10.1) < 0.01, f\"First date mismatch: got {first_price}\"\n",
        "\n",
        "    # Test mid-month interpolation (Jan 2021)\n",
        "    jan_price = estimate_price('2021-01-15')\n",
        "    assert 10.8 < jan_price < 11.0, f\"Mid-month interpolation failed: got {jan_price}\"\n",
        "\n",
        "    # Test last future date\n",
        "    last_price = estimate_price('2025-09-30')\n",
        "    assert isinstance(last_price, float), f\"Last future date error: got {last_price}\"\n",
        "\n",
        "    # Test out of range\n",
        "    assert estimate_price('2030-01-01') is None, \"Out-of-range handling failed\"\n",
        "\n",
        "    # Test known month-end value\n",
        "    assert abs(estimate_price('2023-12-31') - 12.8) < 0.1, \"Month-end value mismatch\"\n",
        "\n",
        "    print(\"✅ All tests passed!\")\n",
        "\n",
        "test_price_estimation()"
      ],
      "metadata": {
        "colab": {
          "base_uri": "https://localhost:8080/"
        },
        "id": "OaqYvHDRCSfw",
        "outputId": "21e05cc8-d0d4-4427-b6b6-91a92fb8f31b"
      },
      "execution_count": 45,
      "outputs": [
        {
          "output_type": "stream",
          "name": "stdout",
          "text": [
            "✅ All tests passed!\n"
          ]
        }
      ]
    },
    {
      "cell_type": "code",
      "source": [
        "# Advanced validation: Verify all month-end prices match original data exactly\n",
        "print(\"\\nValidating month-end prices...\")\n",
        "mismatches = 0\n",
        "\n",
        "for _, row in data.iterrows():\n",
        "    estimated = estimate_price(row['Dates'])\n",
        "    if not abs(estimated - row['Prices']) < 0.01:\n",
        "        print(f\"⚠️  Mismatch on {row['Dates'].date()}: Original={row['Prices']}, Estimated={estimated}\")\n",
        "        mismatches += 1\n",
        "\n",
        "if mismatches == 0:\n",
        "    print(\"✅ All month-end prices match original data\")\n",
        "else:\n",
        "    print(f\"Found {mismatches} mismatches in {len(data)} months\")"
      ],
      "metadata": {
        "colab": {
          "base_uri": "https://localhost:8080/"
        },
        "id": "3_nO1p8bHv1z",
        "outputId": "039337eb-48f2-45e3-db73-0a697676ef3f"
      },
      "execution_count": 47,
      "outputs": [
        {
          "output_type": "stream",
          "name": "stdout",
          "text": [
            "\n",
            "Validating month-end prices...\n",
            "✅ All month-end prices match original data\n"
          ]
        }
      ]
    }
  ]
}